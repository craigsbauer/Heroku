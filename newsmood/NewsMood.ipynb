{
 "cells": [
  {
   "cell_type": "code",
   "execution_count": 1,
   "metadata": {
    "collapsed": true
   },
   "outputs": [],
   "source": [
    "# Dependencies\n",
    "import numpy as np\n",
    "import pandas as pd\n",
    "import matplotlib.pyplot as plt\n",
    "import requests\n",
    "import time\n",
    "#import tweepy\n",
    "import json"
   ]
  },
  {
   "cell_type": "code",
   "execution_count": 7,
   "metadata": {},
   "outputs": [
    {
     "ename": "ModuleNotFoundError",
     "evalue": "No module named 'vaderSentiment'",
     "output_type": "error",
     "traceback": [
      "\u001b[1;31m---------------------------------------------------------------------------\u001b[0m",
      "\u001b[1;31mModuleNotFoundError\u001b[0m                       Traceback (most recent call last)",
      "\u001b[1;32m<ipython-input-7-fecada753600>\u001b[0m in \u001b[0;36m<module>\u001b[1;34m()\u001b[0m\n\u001b[0;32m      1\u001b[0m \u001b[1;31m# Import vaderSentiment Analyzer\u001b[0m\u001b[1;33m\u001b[0m\u001b[1;33m\u001b[0m\u001b[0m\n\u001b[1;32m----> 2\u001b[1;33m \u001b[1;32mfrom\u001b[0m \u001b[0mvaderSentiment\u001b[0m\u001b[1;33m.\u001b[0m\u001b[0mvaderSentiment\u001b[0m \u001b[1;32mimport\u001b[0m \u001b[0mSentimentIntensityAnalyzer\u001b[0m\u001b[1;33m\u001b[0m\u001b[0m\n\u001b[0m\u001b[0;32m      3\u001b[0m \u001b[0manalyzer\u001b[0m \u001b[1;33m=\u001b[0m \u001b[0mSentimentIntensityAnalyzer\u001b[0m\u001b[1;33m(\u001b[0m\u001b[1;33m)\u001b[0m\u001b[1;33m\u001b[0m\u001b[0m\n",
      "\u001b[1;31mModuleNotFoundError\u001b[0m: No module named 'vaderSentiment'"
     ]
    }
   ],
   "source": [
    "# Import vaderSentiment Analyzer\n",
    "from vaderSentiment.vaderSentiment import SentimentIntensityAnalyzer\n",
    "analyzer = SentimentIntensityAnalyzer()"
   ]
  },
  {
   "cell_type": "code",
   "execution_count": 2,
   "metadata": {
    "collapsed": true
   },
   "outputs": [],
   "source": [
    "# Twitter API Keys\n",
    "consumer_key = \"ho0syaVOcYapNnj2gtCFfF5io\"\n",
    "consumer_secret = \"WN5xsDa2ufNVPR9MPJkHxVwTSxREYY8JxMG6sI8tQ8wrHDmITW\"\n",
    "access_token = \"907733914470567937-7Us4vjLpARCIOrJCZoYLqBxVMqYPUUU\"\n",
    "access_token_secret = \"ypNiR5CCZQn8clBmeX25glfGi07ZuEUiJw4xxcX319KuV\""
   ]
  },
  {
   "cell_type": "code",
   "execution_count": 4,
   "metadata": {
    "collapsed": true
   },
   "outputs": [],
   "source": [
    "# Setup Tweepy API Authentication\n",
    "#auth = tweepy.OAuthHandler(consumer_key, consumer_secret)\n",
    "#auth.set_access_token(access_token, access_token_secret)\n",
    "#api = tweepy.API(auth, parser=tweepy.parsers.JSONParser())"
   ]
  },
  {
   "cell_type": "code",
   "execution_count": 5,
   "metadata": {
    "collapsed": true
   },
   "outputs": [],
   "source": [
    "# Target User\n",
    "target_user_BBC = '@BBCWorld'\n",
    "target_user_CBS = '@CBSNews'\n",
    "target_user_CNN = '@CNN'\n",
    "target_user_FOX = '@FoxNews'\n",
    "target_user_NYT = '@nytimesworld'"
   ]
  },
  {
   "cell_type": "code",
   "execution_count": null,
   "metadata": {
    "collapsed": true
   },
   "outputs": [],
   "source": [
    "# Get all tweets from targets\n",
    "BBC_tweets = api.user_timeline(target_user_BBC)\n",
    "CBS_tweets = api.user_timeline(target_user_CBS)\n",
    "CNN_tweets = api.user_timeline(target_user_CNN)\n",
    "NYT_tweets = api.user_timeline(target_user_NYT)\n"
   ]
  },
  {
   "cell_type": "code",
   "execution_count": null,
   "metadata": {
    "collapsed": true
   },
   "outputs": [],
   "source": [
    "# Complete sentiment analysis\n",
    "compound = analyzer.polarity_scores(target_string)\n",
    "print(compound)\n",
    "\n",
    "compound = analyzer.polarity_scores(target_string)[\"compound\"]\n",
    "pos = analyzer.polarity_scores(target_string)[\"pos\"]\n",
    "neu = analyzer.polarity_scores(target_string)[\"neu\"]\n",
    "neg = analyzer.polarity_scores(target_string)[\"neg\"]"
   ]
  },
  {
   "cell_type": "code",
   "execution_count": null,
   "metadata": {
    "collapsed": true
   },
   "outputs": [],
   "source": [
    "# Print analysis\n",
    "print(target_string)\n",
    "print(\"Compound Score: %s\" % compound)\n",
    "print(\"Positive Score: %s\" % pos)\n",
    "print(\"Neutral Score: %s\" % neu)\n",
    "print(\"Negative Score: %s\" % neg)\n"
   ]
  }
 ],
 "metadata": {
  "kernelspec": {
   "display_name": "Python [conda env:PythonData]",
   "language": "python",
   "name": "conda-env-PythonData-py"
  },
  "language_info": {
   "codemirror_mode": {
    "name": "ipython",
    "version": 3
   },
   "file_extension": ".py",
   "mimetype": "text/x-python",
   "name": "python",
   "nbconvert_exporter": "python",
   "pygments_lexer": "ipython3",
   "version": "3.6.1"
  }
 },
 "nbformat": 4,
 "nbformat_minor": 2
}
